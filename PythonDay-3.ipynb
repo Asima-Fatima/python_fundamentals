{
 "cells": [
  {
   "cell_type": "code",
   "execution_count": null,
   "id": "4f200752",
   "metadata": {},
   "outputs": [],
   "source": [
    "Introduction to Python programming\n",
    "compatable to write code and execution in the notebook.\n",
    "Variables:\n",
    "    variables are used to hold the data during the execution of the program.\n"
   ]
  },
  {
   "cell_type": "raw",
   "id": "90eaca00",
   "metadata": {},
   "source": [
    "Rules for declaring the variables:\n",
    "1.No namespaces while declaring the variables."
   ]
  },
  {
   "cell_type": "code",
   "execution_count": 1,
   "id": "64ce3e57",
   "metadata": {},
   "outputs": [
    {
     "ename": "SyntaxError",
     "evalue": "invalid syntax (510594999.py, line 1)",
     "output_type": "error",
     "traceback": [
      "\u001b[0;36m  Cell \u001b[0;32mIn[1], line 1\u001b[0;36m\u001b[0m\n\u001b[0;31m    first name='asima'\u001b[0m\n\u001b[0m          ^\u001b[0m\n\u001b[0;31mSyntaxError\u001b[0m\u001b[0;31m:\u001b[0m invalid syntax\n"
     ]
    }
   ],
   "source": [
    "first name='asima'"
   ]
  },
  {
   "cell_type": "code",
   "execution_count": 2,
   "id": "82d7353f",
   "metadata": {},
   "outputs": [
    {
     "ename": "SyntaxError",
     "evalue": "invalid syntax (2857600303.py, line 1)",
     "output_type": "error",
     "traceback": [
      "\u001b[0;36m  Cell \u001b[0;32mIn[2], line 1\u001b[0;36m\u001b[0m\n\u001b[0;31m    variable x='3'\u001b[0m\n\u001b[0m             ^\u001b[0m\n\u001b[0;31mSyntaxError\u001b[0m\u001b[0;31m:\u001b[0m invalid syntax\n"
     ]
    }
   ],
   "source": [
    "variable x='3'"
   ]
  },
  {
   "cell_type": "code",
   "execution_count": 3,
   "id": "561835cd",
   "metadata": {},
   "outputs": [],
   "source": [
    "firstname='asima'"
   ]
  },
  {
   "cell_type": "code",
   "execution_count": 5,
   "id": "11cc1429",
   "metadata": {},
   "outputs": [],
   "source": [
    "first_name='asima'"
   ]
  },
  {
   "cell_type": "code",
   "execution_count": 6,
   "id": "2d2d43bc",
   "metadata": {},
   "outputs": [
    {
     "name": "stdout",
     "output_type": "stream",
     "text": [
      "first_name\n"
     ]
    }
   ],
   "source": [
    "print(\"first_name\")"
   ]
  },
  {
   "cell_type": "code",
   "execution_count": 7,
   "id": "e3622143",
   "metadata": {},
   "outputs": [
    {
     "name": "stdout",
     "output_type": "stream",
     "text": [
      "first_name.title()\n"
     ]
    }
   ],
   "source": [
    "print(\"first_name.title()\")"
   ]
  },
  {
   "cell_type": "code",
   "execution_count": 8,
   "id": "706f617b",
   "metadata": {},
   "outputs": [
    {
     "name": "stdout",
     "output_type": "stream",
     "text": [
      "firstname\n"
     ]
    }
   ],
   "source": [
    "print(\"firstname\")"
   ]
  },
  {
   "cell_type": "code",
   "execution_count": 11,
   "id": "8cb9b3d2",
   "metadata": {},
   "outputs": [
    {
     "name": "stdout",
     "output_type": "stream",
     "text": [
      "Ayat Fatima\n"
     ]
    }
   ],
   "source": [
    "fullname='ayat fatima'\n",
    "print(fullname.title())"
   ]
  },
  {
   "cell_type": "raw",
   "id": "2f29a1f9",
   "metadata": {},
   "source": [
    "RULE-2\n",
    "A variable name should not start with number."
   ]
  },
  {
   "cell_type": "markdown",
   "id": "6c21447e",
   "metadata": {},
   "source": []
  },
  {
   "cell_type": "code",
   "execution_count": 12,
   "id": "9fd796ca",
   "metadata": {},
   "outputs": [
    {
     "ename": "SyntaxError",
     "evalue": "invalid decimal literal (3632291568.py, line 1)",
     "output_type": "error",
     "traceback": [
      "\u001b[0;36m  Cell \u001b[0;32mIn[12], line 1\u001b[0;36m\u001b[0m\n\u001b[0;31m    1name='Ayat'\u001b[0m\n\u001b[0m    ^\u001b[0m\n\u001b[0;31mSyntaxError\u001b[0m\u001b[0;31m:\u001b[0m invalid decimal literal\n"
     ]
    }
   ],
   "source": [
    "1name='Ayat'\n",
    "print(1name)"
   ]
  },
  {
   "cell_type": "code",
   "execution_count": 13,
   "id": "b5c166a6",
   "metadata": {},
   "outputs": [
    {
     "name": "stdout",
     "output_type": "stream",
     "text": [
      "ayat\n"
     ]
    }
   ],
   "source": [
    "name1='ayat'\n",
    "print(name1)"
   ]
  },
  {
   "cell_type": "code",
   "execution_count": null,
   "id": "0ff455c5",
   "metadata": {},
   "outputs": [],
   "source": [
    "Rule-3\n",
    "A variable name shoukd not contain any special characters,@,$,%,&,*."
   ]
  },
  {
   "cell_type": "markdown",
   "id": "b8e9fbd6",
   "metadata": {},
   "source": []
  },
  {
   "cell_type": "code",
   "execution_count": 14,
   "id": "3c9e4c40",
   "metadata": {},
   "outputs": [
    {
     "ename": "SyntaxError",
     "evalue": "invalid syntax (737616275.py, line 2)",
     "output_type": "error",
     "traceback": [
      "\u001b[0;36m  Cell \u001b[0;32mIn[14], line 2\u001b[0;36m\u001b[0m\n\u001b[0;31m    print(name@)\u001b[0m\n\u001b[0m               ^\u001b[0m\n\u001b[0;31mSyntaxError\u001b[0m\u001b[0;31m:\u001b[0m invalid syntax\n"
     ]
    }
   ],
   "source": [
    "name@='ayat'\n",
    "print(name@)"
   ]
  },
  {
   "cell_type": "code",
   "execution_count": null,
   "id": "190da965",
   "metadata": {},
   "outputs": [],
   "source": [
    "#introduction to datatypes in python\n",
    "1.string--->str\n",
    "2.numbers--->int,float\n",
    "3.lists---->list\n",
    "4.tuples--->tuple\n",
    "5.dictionaries--->dict\n",
    "#classification of datatypes\n",
    "1.Mutable datatypes-->which we can edit/alter.\n",
    "2.immutable datatypes-->which we cannot be able to edit/alter.\n",
    "#introduction to string datatype\n",
    "a string is a series of characters declared in quotes.it is classified as immutable datatype.\n"
   ]
  },
  {
   "cell_type": "code",
   "execution_count": null,
   "id": "5d09d92d",
   "metadata": {},
   "outputs": [],
   "source": [
    "#declaration of string\n",
    "1.single quotes\n",
    "2.double quotes"
   ]
  },
  {
   "cell_type": "code",
   "execution_count": 15,
   "id": "6d9de012",
   "metadata": {},
   "outputs": [
    {
     "name": "stdout",
     "output_type": "stream",
     "text": [
      "ayat\n"
     ]
    }
   ],
   "source": [
    "name1='ayat'\n",
    "print(name1)"
   ]
  },
  {
   "cell_type": "code",
   "execution_count": 16,
   "id": "dcdd8690",
   "metadata": {},
   "outputs": [
    {
     "name": "stdout",
     "output_type": "stream",
     "text": [
      "fatima\n"
     ]
    }
   ],
   "source": [
    "name2=\"fatima\"\n",
    "print(name2)"
   ]
  },
  {
   "cell_type": "code",
   "execution_count": 17,
   "id": "0d942756",
   "metadata": {},
   "outputs": [
    {
     "name": "stdout",
     "output_type": "stream",
     "text": [
      "Fatima\n"
     ]
    }
   ],
   "source": [
    "print(name2.title())"
   ]
  },
  {
   "cell_type": "code",
   "execution_count": 18,
   "id": "621dfc8f",
   "metadata": {},
   "outputs": [
    {
     "name": "stdout",
     "output_type": "stream",
     "text": [
      "Ayat\n"
     ]
    }
   ],
   "source": [
    "print(name1.title())"
   ]
  },
  {
   "cell_type": "code",
   "execution_count": null,
   "id": "fb3c922d",
   "metadata": {},
   "outputs": [],
   "source": [
    "#how to verify the datatype of variable"
   ]
  },
  {
   "cell_type": "code",
   "execution_count": 19,
   "id": "05989df0",
   "metadata": {},
   "outputs": [
    {
     "data": {
      "text/plain": [
       "str"
      ]
     },
     "execution_count": 19,
     "metadata": {},
     "output_type": "execute_result"
    }
   ],
   "source": [
    "type(name1)"
   ]
  },
  {
   "cell_type": "code",
   "execution_count": 20,
   "id": "a64a9305",
   "metadata": {},
   "outputs": [
    {
     "ename": "NameError",
     "evalue": "name 'name2' is not defined",
     "output_type": "error",
     "traceback": [
      "\u001b[0;31m---------------------------------------------------------------------------\u001b[0m",
      "\u001b[0;31mNameError\u001b[0m                                 Traceback (most recent call last)",
      "Cell \u001b[0;32mIn[20], line 1\u001b[0m\n\u001b[0;32m----> 1\u001b[0m \u001b[38;5;28mtype\u001b[39m(\u001b[43mname2\u001b[49m)\n",
      "\u001b[0;31mNameError\u001b[0m: name 'name2' is not defined"
     ]
    }
   ],
   "source": [
    "type(name2)"
   ]
  },
  {
   "cell_type": "code",
   "execution_count": 21,
   "id": "95ec3a80",
   "metadata": {},
   "outputs": [
    {
     "data": {
      "text/plain": [
       "str"
      ]
     },
     "execution_count": 21,
     "metadata": {},
     "output_type": "execute_result"
    }
   ],
   "source": [
    "name2='fatima'\n",
    "type(name2)"
   ]
  },
  {
   "cell_type": "code",
   "execution_count": 22,
   "id": "b5926f09",
   "metadata": {},
   "outputs": [
    {
     "name": "stdout",
     "output_type": "stream",
     "text": [
      "3\n"
     ]
    }
   ],
   "source": [
    "x=3\n",
    "print(x)"
   ]
  },
  {
   "cell_type": "code",
   "execution_count": 23,
   "id": "d98d7e50",
   "metadata": {},
   "outputs": [
    {
     "data": {
      "text/plain": [
       "int"
      ]
     },
     "execution_count": 23,
     "metadata": {},
     "output_type": "execute_result"
    }
   ],
   "source": [
    "type(x)"
   ]
  },
  {
   "cell_type": "code",
   "execution_count": 24,
   "id": "248841a0",
   "metadata": {},
   "outputs": [
    {
     "data": {
      "text/plain": [
       "float"
      ]
     },
     "execution_count": 24,
     "metadata": {},
     "output_type": "execute_result"
    }
   ],
   "source": [
    "y=3.5\n",
    "type(y)"
   ]
  },
  {
   "cell_type": "code",
   "execution_count": 25,
   "id": "9a049a43",
   "metadata": {},
   "outputs": [
    {
     "name": "stdout",
     "output_type": "stream",
     "text": [
      "vaqeeuddin ahmed\n"
     ]
    }
   ],
   "source": [
    "#fullname in lower and upper case\n",
    "fullname='vaqeeuddin ahmed'\n",
    "print(fullname)"
   ]
  },
  {
   "cell_type": "code",
   "execution_count": 26,
   "id": "d815b964",
   "metadata": {},
   "outputs": [
    {
     "name": "stdout",
     "output_type": "stream",
     "text": [
      "Vaqeeuddin Ahmed\n"
     ]
    }
   ],
   "source": [
    "print(fullname.title())"
   ]
  },
  {
   "cell_type": "code",
   "execution_count": 27,
   "id": "40f0cb81",
   "metadata": {},
   "outputs": [
    {
     "name": "stdout",
     "output_type": "stream",
     "text": [
      "VAQEEUDDIN AHMED\n"
     ]
    }
   ],
   "source": [
    "print(fullname.upper())"
   ]
  },
  {
   "cell_type": "code",
   "execution_count": 28,
   "id": "69c58709",
   "metadata": {},
   "outputs": [
    {
     "name": "stdout",
     "output_type": "stream",
     "text": [
      "vaqeeuddin ahmed\n"
     ]
    }
   ],
   "source": [
    "print(fullname.lower())"
   ]
  },
  {
   "cell_type": "code",
   "execution_count": 29,
   "id": "e84d5047",
   "metadata": {},
   "outputs": [
    {
     "data": {
      "text/plain": [
       "str"
      ]
     },
     "execution_count": 29,
     "metadata": {},
     "output_type": "execute_result"
    }
   ],
   "source": [
    "type(fullname)"
   ]
  },
  {
   "cell_type": "code",
   "execution_count": null,
   "id": "b5b893d2",
   "metadata": {},
   "outputs": [],
   "source": []
  }
 ],
 "metadata": {
  "kernelspec": {
   "display_name": "Python 3 (ipykernel)",
   "language": "python",
   "name": "python3"
  },
  "language_info": {
   "codemirror_mode": {
    "name": "ipython",
    "version": 3
   },
   "file_extension": ".py",
   "mimetype": "text/x-python",
   "name": "python",
   "nbconvert_exporter": "python",
   "pygments_lexer": "ipython3",
   "version": "3.10.9"
  }
 },
 "nbformat": 4,
 "nbformat_minor": 5
}
