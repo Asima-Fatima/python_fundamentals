{
 "cells": [
  {
   "cell_type": "code",
   "execution_count": null,
   "id": "26d10cd8",
   "metadata": {},
   "outputs": [],
   "source": [
    "#1.Python has been awarded as the most demanding programming language for the year 2020,2021,2022.\n",
    "2.able to understand with the smple syntaxes.\n",
    "3.due to its easy integration capabilities-healthcare/banking/retail/tech/finance.\n"
   ]
  },
  {
   "cell_type": "code",
   "execution_count": null,
   "id": "a04421d5",
   "metadata": {},
   "outputs": [],
   "source": [
    "Fayaz sir-7075662132\n",
    "emailId-codetraining01@gmail.com"
   ]
  },
  {
   "cell_type": "code",
   "execution_count": null,
   "id": "9718f90f",
   "metadata": {},
   "outputs": [],
   "source": [
    "1.Program "
   ]
  },
  {
   "cell_type": "code",
   "execution_count": 1,
   "id": "55c3e1aa",
   "metadata": {},
   "outputs": [
    {
     "name": "stdout",
     "output_type": "stream",
     "text": [
      "Hello all welcome to the Python programming world\n"
     ]
    }
   ],
   "source": [
    "print(\"Hello all welcome to the Python programming world\")"
   ]
  },
  {
   "cell_type": "code",
   "execution_count": null,
   "id": "6d49eb07",
   "metadata": {},
   "outputs": [],
   "source": [
    "#shift+enter button for execution of the cell."
   ]
  },
  {
   "cell_type": "code",
   "execution_count": null,
   "id": "c6a4ae86",
   "metadata": {},
   "outputs": [],
   "source": [
    "2.Program"
   ]
  },
  {
   "cell_type": "code",
   "execution_count": 2,
   "id": "25cfe53b",
   "metadata": {},
   "outputs": [
    {
     "name": "stdout",
     "output_type": "stream",
     "text": [
      "My name is Asima Fatima\n"
     ]
    }
   ],
   "source": [
    "print(\"My name is Asima Fatima\")"
   ]
  },
  {
   "cell_type": "code",
   "execution_count": null,
   "id": "3abaa513",
   "metadata": {},
   "outputs": [],
   "source": []
  }
 ],
 "metadata": {
  "kernelspec": {
   "display_name": "Python 3 (ipykernel)",
   "language": "python",
   "name": "python3"
  },
  "language_info": {
   "codemirror_mode": {
    "name": "ipython",
    "version": 3
   },
   "file_extension": ".py",
   "mimetype": "text/x-python",
   "name": "python",
   "nbconvert_exporter": "python",
   "pygments_lexer": "ipython3",
   "version": "3.10.9"
  }
 },
 "nbformat": 4,
 "nbformat_minor": 5
}
