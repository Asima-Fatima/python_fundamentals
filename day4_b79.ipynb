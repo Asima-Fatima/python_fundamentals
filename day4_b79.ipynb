{
 "cells": [
  {
   "cell_type": "code",
   "execution_count": 1,
   "id": "8f62644c",
   "metadata": {},
   "outputs": [
    {
     "ename": "SyntaxError",
     "evalue": "invalid syntax (4153763424.py, line 2)",
     "output_type": "error",
     "traceback": [
      "\u001b[0;36m  Cell \u001b[0;32mIn[1], line 2\u001b[0;36m\u001b[0m\n\u001b[0;31m    a list is a collection of items declared in a particular order.\u001b[0m\n\u001b[0m      ^\u001b[0m\n\u001b[0;31mSyntaxError\u001b[0m\u001b[0;31m:\u001b[0m invalid syntax\n"
     ]
    }
   ],
   "source": [
    "#introduction to list datatypes\n",
    "a list is a collection of items declared in a particular order.\n",
    "classification:it is classified as an mutable datatype.\n",
    "    #how to define list...?\n",
    "    dbms=['oracle database','microsoftSQLserver','MySQL','postgreSQL']\n",
    "    print(dbms)"
   ]
  },
  {
   "cell_type": "code",
   "execution_count": 2,
   "id": "7f5967b8",
   "metadata": {},
   "outputs": [
    {
     "ename": "NameError",
     "evalue": "name 'dbms' is not defined",
     "output_type": "error",
     "traceback": [
      "\u001b[0;31m---------------------------------------------------------------------------\u001b[0m",
      "\u001b[0;31mNameError\u001b[0m                                 Traceback (most recent call last)",
      "Cell \u001b[0;32mIn[2], line 1\u001b[0m\n\u001b[0;32m----> 1\u001b[0m \u001b[38;5;28mprint\u001b[39m(\u001b[43mdbms\u001b[49m)\n",
      "\u001b[0;31mNameError\u001b[0m: name 'dbms' is not defined"
     ]
    }
   ],
   "source": [
    "print(dbms)"
   ]
  },
  {
   "cell_type": "code",
   "execution_count": 3,
   "id": "b4321f93",
   "metadata": {},
   "outputs": [
    {
     "name": "stdout",
     "output_type": "stream",
     "text": [
      "['oracle database', 'microsoftSQLserver', 'MySQL', 'postgreSQL']\n"
     ]
    }
   ],
   "source": [
    "dbms=['oracle database','microsoftSQLserver','MySQL','postgreSQL']\n",
    "print(dbms)"
   ]
  },
  {
   "cell_type": "code",
   "execution_count": 4,
   "id": "80713c13",
   "metadata": {},
   "outputs": [
    {
     "name": "stdout",
     "output_type": "stream",
     "text": [
      "oracle database\n"
     ]
    }
   ],
   "source": [
    "#introduction to indexing\n",
    "print(dbms[0])"
   ]
  },
  {
   "cell_type": "code",
   "execution_count": 5,
   "id": "3a382e6d",
   "metadata": {},
   "outputs": [
    {
     "name": "stdout",
     "output_type": "stream",
     "text": [
      "postgreSQL\n"
     ]
    }
   ],
   "source": [
    "print(dbms[3])"
   ]
  },
  {
   "cell_type": "code",
   "execution_count": 6,
   "id": "cab70786",
   "metadata": {},
   "outputs": [
    {
     "data": {
      "text/plain": [
       "str"
      ]
     },
     "execution_count": 6,
     "metadata": {},
     "output_type": "execute_result"
    }
   ],
   "source": [
    "type(dbms[2])"
   ]
  },
  {
   "cell_type": "code",
   "execution_count": 7,
   "id": "b2a9fc01",
   "metadata": {},
   "outputs": [
    {
     "name": "stdout",
     "output_type": "stream",
     "text": [
      "['oracle database', 'microsoftSQLserver', 'MySQL', 'postgreSQL', 'mongoDB']\n"
     ]
    }
   ],
   "source": [
    "#add mongoDB\n",
    "dbms.append('mongoDB')\n",
    "print(dbms)"
   ]
  },
  {
   "cell_type": "code",
   "execution_count": 8,
   "id": "2b42adfd",
   "metadata": {},
   "outputs": [
    {
     "ename": "NameError",
     "evalue": "name 'cassander' is not defined",
     "output_type": "error",
     "traceback": [
      "\u001b[0;31m---------------------------------------------------------------------------\u001b[0m",
      "\u001b[0;31mNameError\u001b[0m                                 Traceback (most recent call last)",
      "Cell \u001b[0;32mIn[8], line 1\u001b[0m\n\u001b[0;32m----> 1\u001b[0m dbms\u001b[38;5;241m.\u001b[39mappend(\u001b[43mcassander\u001b[49m)\n\u001b[1;32m      2\u001b[0m \u001b[38;5;28mprint\u001b[39m(dbms)\n",
      "\u001b[0;31mNameError\u001b[0m: name 'cassander' is not defined"
     ]
    }
   ],
   "source": [
    "dbms.append(cassander)\n",
    "print(dbms)"
   ]
  },
  {
   "cell_type": "code",
   "execution_count": 9,
   "id": "e9bcee07",
   "metadata": {},
   "outputs": [
    {
     "ename": "AttributeError",
     "evalue": "'list' object has no attribute 'appent'",
     "output_type": "error",
     "traceback": [
      "\u001b[0;31m---------------------------------------------------------------------------\u001b[0m",
      "\u001b[0;31mAttributeError\u001b[0m                            Traceback (most recent call last)",
      "Cell \u001b[0;32mIn[9], line 1\u001b[0m\n\u001b[0;32m----> 1\u001b[0m \u001b[43mdbms\u001b[49m\u001b[38;5;241;43m.\u001b[39;49m\u001b[43mappent\u001b[49m(\u001b[38;5;124m'\u001b[39m\u001b[38;5;124mcassander\u001b[39m\u001b[38;5;124m'\u001b[39m)\n",
      "\u001b[0;31mAttributeError\u001b[0m: 'list' object has no attribute 'appent'"
     ]
    }
   ],
   "source": [
    "dbms.appent('cassander')"
   ]
  },
  {
   "cell_type": "code",
   "execution_count": 10,
   "id": "65817ef3",
   "metadata": {},
   "outputs": [],
   "source": [
    "dbms.append('cassender')"
   ]
  },
  {
   "cell_type": "code",
   "execution_count": 11,
   "id": "4ed75c94",
   "metadata": {},
   "outputs": [
    {
     "name": "stdout",
     "output_type": "stream",
     "text": [
      "['oracle database', 'microsoftSQLserver', 'MySQL', 'postgreSQL', 'mongoDB', 'cassender']\n"
     ]
    }
   ],
   "source": [
    "print(dbms)"
   ]
  },
  {
   "cell_type": "code",
   "execution_count": 12,
   "id": "243f390b",
   "metadata": {},
   "outputs": [
    {
     "ename": "TypeError",
     "evalue": "'builtin_function_or_method' object is not subscriptable",
     "output_type": "error",
     "traceback": [
      "\u001b[0;31m---------------------------------------------------------------------------\u001b[0m",
      "\u001b[0;31mTypeError\u001b[0m                                 Traceback (most recent call last)",
      "Cell \u001b[0;32mIn[12], line 2\u001b[0m\n\u001b[1;32m      1\u001b[0m \u001b[38;5;66;03m#delete MySQL\u001b[39;00m\n\u001b[0;32m----> 2\u001b[0m y\u001b[38;5;241m=\u001b[39m\u001b[43mdbms\u001b[49m\u001b[38;5;241;43m.\u001b[39;49m\u001b[43mpop\u001b[49m\u001b[43m[\u001b[49m\u001b[38;5;241;43m2\u001b[39;49m\u001b[43m]\u001b[49m\n",
      "\u001b[0;31mTypeError\u001b[0m: 'builtin_function_or_method' object is not subscriptable"
     ]
    }
   ],
   "source": [
    "#delete MySQL\n",
    "y=dbms.pop[2]"
   ]
  },
  {
   "cell_type": "code",
   "execution_count": 13,
   "id": "fea81fd5",
   "metadata": {},
   "outputs": [
    {
     "name": "stdout",
     "output_type": "stream",
     "text": [
      "['oracle database', 'microsoftSQLserver', 'postgreSQL', 'mongoDB', 'cassender']\n"
     ]
    }
   ],
   "source": [
    "y=dbms.pop(2)\n",
    "print(dbms)"
   ]
  },
  {
   "cell_type": "code",
   "execution_count": 14,
   "id": "0466188d",
   "metadata": {},
   "outputs": [
    {
     "name": "stdout",
     "output_type": "stream",
     "text": [
      "MySQL\n"
     ]
    }
   ],
   "source": [
    "print(y)"
   ]
  },
  {
   "cell_type": "code",
   "execution_count": 15,
   "id": "092c3123",
   "metadata": {},
   "outputs": [
    {
     "data": {
      "text/plain": [
       "str"
      ]
     },
     "execution_count": 15,
     "metadata": {},
     "output_type": "execute_result"
    }
   ],
   "source": [
    "type(y)"
   ]
  },
  {
   "cell_type": "code",
   "execution_count": 16,
   "id": "48e25aa4",
   "metadata": {},
   "outputs": [
    {
     "ename": "SyntaxError",
     "evalue": "cannot delete function call (237576256.py, line 2)",
     "output_type": "error",
     "traceback": [
      "\u001b[0;36m  Cell \u001b[0;32mIn[16], line 2\u001b[0;36m\u001b[0m\n\u001b[0;31m    del dbms(2)\u001b[0m\n\u001b[0m        ^\u001b[0m\n\u001b[0;31mSyntaxError\u001b[0m\u001b[0;31m:\u001b[0m cannot delete function call\n"
     ]
    }
   ],
   "source": [
    "#delete postgreSQL\n",
    "del dbms(2)"
   ]
  },
  {
   "cell_type": "code",
   "execution_count": 17,
   "id": "d5f2880d",
   "metadata": {},
   "outputs": [
    {
     "name": "stdout",
     "output_type": "stream",
     "text": [
      "['oracle database', 'microsoftSQLserver', 'postgreSQL', 'mongoDB', 'cassender']\n"
     ]
    }
   ],
   "source": [
    "print(dbms)"
   ]
  },
  {
   "cell_type": "code",
   "execution_count": 18,
   "id": "a52ebbdf",
   "metadata": {},
   "outputs": [
    {
     "ename": "SyntaxError",
     "evalue": "cannot delete function call (4228122186.py, line 1)",
     "output_type": "error",
     "traceback": [
      "\u001b[0;36m  Cell \u001b[0;32mIn[18], line 1\u001b[0;36m\u001b[0m\n\u001b[0;31m    del dbms(2)\u001b[0m\n\u001b[0m        ^\u001b[0m\n\u001b[0;31mSyntaxError\u001b[0m\u001b[0;31m:\u001b[0m cannot delete function call\n"
     ]
    }
   ],
   "source": [
    "del dbms(2)\n",
    "print(dbms)"
   ]
  },
  {
   "cell_type": "code",
   "execution_count": 19,
   "id": "e3f462fc",
   "metadata": {},
   "outputs": [
    {
     "name": "stdout",
     "output_type": "stream",
     "text": [
      "['oracle database', 'microsoftSQLserver', 'mongoDB', 'cassender']\n"
     ]
    }
   ],
   "source": [
    "del dbms[2]\n",
    "print(dbms)"
   ]
  },
  {
   "cell_type": "code",
   "execution_count": 20,
   "id": "234f6713",
   "metadata": {},
   "outputs": [
    {
     "ename": "NameError",
     "evalue": "name 'oracle' is not defined",
     "output_type": "error",
     "traceback": [
      "\u001b[0;31m---------------------------------------------------------------------------\u001b[0m",
      "\u001b[0;31mNameError\u001b[0m                                 Traceback (most recent call last)",
      "Cell \u001b[0;32mIn[20], line 2\u001b[0m\n\u001b[1;32m      1\u001b[0m \u001b[38;5;66;03m#change the name oracle database to oracle\u001b[39;00m\n\u001b[0;32m----> 2\u001b[0m dbms[\u001b[38;5;241m0\u001b[39m]\u001b[38;5;241m=\u001b[39m\u001b[43moracle\u001b[49m\n\u001b[1;32m      3\u001b[0m \u001b[38;5;28mprint\u001b[39m(dbms)\n",
      "\u001b[0;31mNameError\u001b[0m: name 'oracle' is not defined"
     ]
    }
   ],
   "source": [
    "#change the name oracle database to oracle\n",
    "dbms[0]=oracle\n",
    "print(dbms)"
   ]
  },
  {
   "cell_type": "code",
   "execution_count": 21,
   "id": "6ef89d98",
   "metadata": {},
   "outputs": [
    {
     "name": "stdout",
     "output_type": "stream",
     "text": [
      "['oracle', 'microsoftSQLserver', 'mongoDB', 'cassender']\n"
     ]
    }
   ],
   "source": [
    "dbms[0]='oracle'\n",
    "print(dbms)"
   ]
  },
  {
   "cell_type": "code",
   "execution_count": null,
   "id": "ee53ad5d",
   "metadata": {},
   "outputs": [],
   "source": []
  }
 ],
 "metadata": {
  "kernelspec": {
   "display_name": "Python 3 (ipykernel)",
   "language": "python",
   "name": "python3"
  },
  "language_info": {
   "codemirror_mode": {
    "name": "ipython",
    "version": 3
   },
   "file_extension": ".py",
   "mimetype": "text/x-python",
   "name": "python",
   "nbconvert_exporter": "python",
   "pygments_lexer": "ipython3",
   "version": "3.10.9"
  }
 },
 "nbformat": 4,
 "nbformat_minor": 5
}
